{
 "cells": [
  {
   "cell_type": "code",
   "execution_count": 33,
   "metadata": {},
   "outputs": [],
   "source": [
    "import matplotlib.pyplot as plt\n",
    "import pandas as pd\n",
    "import numpy as np\n",
    "from sklearn.linear_model import LinearRegression\n",
    "from sklearn.neighbors import KNeighborsRegressor\n",
    "from pathlib import Path\n",
    "\n",
    "np.random.seed(42)\n",
    "\n",
    "plt.rc('font' , size=12)\n",
    "plt.rc('axes' , labelsize=14 , titlesize=14)\n",
    "plt.rc('legend' , fontsize=12)\n",
    "plt.rc('xtick', labelsize=12)\n",
    "plt.rc('ytick' , labelsize=12)\n",
    "\n",
    "\n",
    "\n",
    "datapath = Path() / \"data\"\n",
    "\n",
    "oecd_bli = pd.read_csv(datapath/\"oecd_bli.csv\")\n",
    "gdp_per_capita =pd.read_csv(datapath/\"gdp_per_capita.csv\")\n",
    "\n",
    "\n",
    "gdp_per_capita.columns\n",
    "\n",
    "gdp_per_capita_2020 = gdp_per_capita[gdp_per_capita['Year'] ==2020]\n",
    "gdp_per_capita_2020 = gdp_per_capita_2020.rename(\n",
    "    columns= {\"GDP per capita, PPP (constant 2017 international $)\" : \"GDP per capita\"}\n",
    ")\n",
    "gdp_per_capita_2020\n",
    "\n",
    "oecd_bli[\"Indicator\"].value_counts()\n",
    "\n",
    "oecd_bli = oecd_bli[oecd_bli['INEQUALITY']==\"TOT\"]\n",
    "oecd_bli = oecd_bli.pivot(index=\"Country\" , columns=\"Indicator\" , values=\"Value\")\n",
    "oecd_bli\n",
    "\n",
    "oecd_bli.reset_index(inplace=True)\n",
    "oecd_bli\n",
    "\n",
    "\n",
    "full_country_stats = oecd_bli.merge(gdp_per_capita_2020 , left_on=\"Country\" , right_on=\"Entity\" , how=\"inner\")\n",
    "full_country_stats\n",
    "\n",
    "full_country_stats = full_country_stats[[\"Country\", \"Life satisfaction\" , \"GDP per capita\"]]\n",
    "full_country_stats\n",
    "\n",
    "full_country_stats.to_csv(datapath / 'lifesat_full.csv' , index=False)\n",
    "\n",
    "min_gdp = 23_500\n",
    "max_gdp = 62_500\n",
    "\n",
    "country_stats = full_country_stats[(full_country_stats[\"GDP per capita\"] >= min_gdp) & (full_country_stats['GDP per capita'] <= max_gdp)]\n",
    "\n",
    "country_stats.to_csv(datapath / 'lifesat.csv' , index=False)\n"
   ]
  },
  {
   "cell_type": "code",
   "execution_count": 43,
   "metadata": {},
   "outputs": [
    {
     "name": "stdout",
     "output_type": "stream",
     "text": [
      "theta_0 : 3.749049427376912\n",
      "theta_1 : 6.778899694341219e-05\n"
     ]
    },
    {
     "data": {
      "image/png": "[encoded data removed]",
      "text/plain": [
       "<Figure size 640x480 with 1 Axes>"
      ]
     },
     "metadata": {},
     "output_type": "display_data"
    }
   ],
   "source": [
    "lifesat = pd.read_csv(\"data/lifesat.csv\")\n",
    "\n",
    "country_stats.plot(kind='scatter', grid=True , x=\"GDP per capita\" , y= \"Life satisfaction\")\n"
   ]
  },
  {
   "cell_type": "code",
   "execution_count": 49,
   "metadata": {},
   "outputs": [
    {
     "name": "stdout",
     "output_type": "stream",
     "text": [
      "theta_0 : 3.749049427376912\n",
      "theta_1 : 6.778899694341219e-05\n"
     ]
    }
   ],
   "source": [
    "x = lifesat[[\"GDP per capita\"]]\n",
    "y = lifesat[['Life satisfaction']]\n",
    "\n",
    "model = LinearRegression()\n",
    "\n",
    "model.fit(x,y)\n",
    "\n",
    "theta_0 = model.intercept_[0]\n",
    "theta_1 = model.coef_[0][0]\n",
    "print(f\"theta_0 : {theta_0}\")\n",
    "print(f\"theta_1 : {theta_1}\")\n",
    "\n"
   ]
  },
  {
   "cell_type": "code",
   "execution_count": 46,
   "metadata": {},
   "outputs": [
    {
     "data": {
      "text/html": [
       "<div>\n",
       "<style scoped>\n",
       "    .dataframe tbody tr th:only-of-type {\n",
       "        vertical-align: middle;\n",
       "    }\n",
       "\n",
       "    .dataframe tbody tr th {\n",
       "        vertical-align: top;\n",
       "    }\n",
       "\n",
       "    .dataframe thead th {\n",
       "        text-align: right;\n",
       "    }\n",
       "</style>\n",
       "<table border=\"1\" class=\"dataframe\">\n",
       "  <thead>\n",
       "    <tr style=\"text-align: right;\">\n",
       "      <th></th>\n",
       "      <th>GDP per capita</th>\n",
       "    </tr>\n",
       "  </thead>\n",
       "  <tbody>\n",
       "    <tr>\n",
       "      <th>1517</th>\n",
       "      <td>37655.180346</td>\n",
       "    </tr>\n",
       "  </tbody>\n",
       "</table>\n",
       "</div>"
      ],
      "text/plain": [
       "      GDP per capita\n",
       "1517    37655.180346"
      ]
     },
     "execution_count": 46,
     "metadata": {},
     "output_type": "execute_result"
    }
   ],
   "source": [
    "cyprus = (gdp_per_capita_2020[gdp_per_capita_2020['Entity']== 'Cyprus'][['GDP per capita']])\n",
    "\n",
    "cyprus"
   ]
  }
 ],
 "metadata": {
  "kernelspec": {
   "display_name": "venv",
   "language": "python",
   "name": "python3"
  },
  "language_info": {
   "codemirror_mode": {
    "name": "ipython",
    "version": 3
   },
   "file_extension": ".py",
   "mimetype": "text/x-python",
   "name": "python",
   "nbconvert_exporter": "python",
   "pygments_lexer": "ipython3",
   "version": "3.12.2"
  }
 },
 "nbformat": 4,
 "nbformat_minor": 2
}
